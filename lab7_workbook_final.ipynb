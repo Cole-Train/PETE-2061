{
 "cells": [
  {
   "cell_type": "markdown",
   "metadata": {
    "colab_type": "text",
    "id": "u1YDPNtbdHDj"
   },
   "source": [
    "# PETE 2061 Lab 7 workbook (Functions)\n",
    "\n",
    "## THIS IS DUE BY 11:59 PM on Monday, Oct 21"
   ]
  },
  {
   "cell_type": "markdown",
   "metadata": {
    "colab_type": "text",
    "id": "krWd44XodHDp"
   },
   "source": [
    "<a id='variables'></a>\n",
    "## Decline Curve Analysis\n",
    "Well A flows with an initial flow rate ($q_i$) of 6,000 bopd (barrels of oil per day), and has a continuous initial decline rate ($D_i$) of 0.001 per day. The well follows the hyperbolic decline for the first 5 years and switches over to exponential decline after 5 years. The well then declines exponentially for 5 more years, to make a total production time of 10 years. \n",
    "* Implement two functions-- one for the hyperbolic decline and another for the exponential decline\n",
    "* Use a for loop. Do not vectorize!\n",
    "* Call the hyperbolic decline function if time is less than 5 years, and the exponential decline otherwise.\n",
    "* How will you get the initial rate to use during the exponential decline? (Hint: this will be the rate on the last day of the 5th year. The first day of the 6th year will be day 1 for the exponential decline)\n",
    "<br>"
   ]
  },
  {
   "cell_type": "code",
   "execution_count": 13,
   "metadata": {},
   "outputs": [
    {
     "data": {
      "image/png": "[encoded data removed]",
      "text/plain": [
       "<Figure size 432x288 with 1 Axes>"
      ]
     },
     "metadata": {
      "needs_background": "light"
     },
     "output_type": "display_data"
    }
   ],
   "source": [
    "import numpy as np\n",
    "import matplotlib.pyplot as plt\n",
    "import math as mt\n",
    "\n",
    "q_i = 6000\n",
    "D_i = 0.001\n",
    "b = 0.4\n",
    "\n",
    "timeVec = np.arange(3650)  # sets timeVec to a vector of [0,1,2,...,20]\n",
    "rate = np.zeros(timeVec.shape)\n",
    "\n",
    "for x in timeVec[0:3650]:\n",
    "    if x <= 1825:\n",
    "        rate[x]:q_i/(1+(b*D_i*t))**(1/b)\n",
    "    else: \n",
    "        rate[x]=rate[1824]*(mt.exp((-1*D_i*(x-1825))))\n",
    "\n",
    "plt.plot(timeVec,rate,'g-s')\n",
    "plt.show()"
   ]
  },
  {
   "cell_type": "markdown",
   "metadata": {},
   "source": [
    "## Extra Credit\n",
    "For an extra credit of up to 20% of the total value of this lab. \n",
    "* Instead of creating two separate functions for the hyperbolic decline and exponential declines, create only one function called \"arpsDecline()\", and from the number of arguments to this function, determine which function to call. (Hint: I discussed this in the Lab 7 Jupyter notebook last week)\n",
    "* Can you vectorize the implementation of this algorithm, and eliminate the for loop?"
   ]
  },
  {
   "cell_type": "code",
   "execution_count": null,
   "metadata": {},
   "outputs": [],
   "source": []
  }
 ],
 "metadata": {
  "colab": {
   "collapsed_sections": [
    "sYQs3O-6dHFb",
    "8sIJ4A57dHFk",
    "_73RPOcBdHFn",
    "h9s2tfPcdHFo",
    "zt4YHVYPdHGR"
   ],
   "include_colab_link": true,
   "name": "Copy of intro-python-colab.ipynb",
   "provenance": [],
   "version": "0.3.2"
  },
  "kernelspec": {
   "display_name": "Python 3",
   "language": "python",
   "name": "python3"
  },
  "language_info": {
   "codemirror_mode": {
    "name": "ipython",
    "version": 3
   },
   "file_extension": ".py",
   "mimetype": "text/x-python",
   "name": "python",
   "nbconvert_exporter": "python",
   "pygments_lexer": "ipython3",
   "version": "3.7.3"
  }
 },
 "nbformat": 4,
 "nbformat_minor": 1
}
